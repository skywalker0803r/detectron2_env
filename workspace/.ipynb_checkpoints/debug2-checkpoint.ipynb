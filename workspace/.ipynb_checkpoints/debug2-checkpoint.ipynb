{
 "cells": [
  {
   "cell_type": "code",
   "execution_count": 2,
   "id": "3da5e0b6-7853-48b0-aac3-24f1115c1a39",
   "metadata": {},
   "outputs": [
    {
     "data": {
      "text/plain": [
       "['.ipynb_checkpoints',\n",
       " 'data',\n",
       " 'debug.ipynb',\n",
       " 'debug2.ipynb',\n",
       " 'detectron_main.py',\n",
       " 'detect_landing.py',\n",
       " 'detect_release.py',\n",
       " 'detect_shoulder.py',\n",
       " 'landing_features.py',\n",
       " 'output_detectron2_first_person_tracked',\n",
       " 'output_landing',\n",
       " 'output_release',\n",
       " 'output_shoulder',\n",
       " 'pose_detectron2.py',\n",
       " 'pose_utils_detectron2.py',\n",
       " 'release_features.py',\n",
       " 'requirements.txt',\n",
       " 'run_detectron2.py',\n",
       " 'shoulder_features.py',\n",
       " '__pycache__']"
      ]
     },
     "execution_count": 2,
     "metadata": {},
     "output_type": "execute_result"
    }
   ],
   "source": [
    "import os\n",
    "os.listdir()"
   ]
  },
  {
   "cell_type": "code",
   "execution_count": 11,
   "id": "d85d9764-7889-4c45-bf5e-77230054e6af",
   "metadata": {},
   "outputs": [],
   "source": [
    "# all data"
   ]
  },
  {
   "cell_type": "code",
   "execution_count": 8,
   "id": "2cf71e84-3c34-4b2d-890b-e8900abaf9ba",
   "metadata": {},
   "outputs": [
    {
     "name": "stdout",
     "output_type": "stream",
     "text": [
      "(237, 17, 3)\n"
     ]
    }
   ],
   "source": [
    "import numpy as np\n",
    "import os\n",
    "import re\n",
    "\n",
    "# 指定資料夾路徑\n",
    "folder = 'output_detectron2_first_person_tracked'\n",
    "\n",
    "# 取得所有符合 pattern 的檔案名稱\n",
    "files = [f for f in os.listdir(folder) if f.endswith('_target_keypoints.npy')]\n",
    "\n",
    "# 根據 frame 編號排序檔案\n",
    "files.sort(key=lambda x: int(re.findall(r'frame_(\\d+)_', x)[0]))\n",
    "\n",
    "# 依序載入所有檔案並合併\n",
    "all_data = [np.load(os.path.join(folder, f)) for f in files]\n",
    "\n",
    "# 合併成一個大的 ndarray（沿著新的一個維度 stack）\n",
    "all_data = np.stack(all_data)\n",
    "\n",
    "# 檢查結果\n",
    "print(all_data.shape)\n"
   ]
  },
  {
   "cell_type": "code",
   "execution_count": 12,
   "id": "7872232e-f31b-4216-904d-123b6f67036b",
   "metadata": {},
   "outputs": [],
   "source": [
    "# all features"
   ]
  },
  {
   "cell_type": "code",
   "execution_count": 13,
   "id": "bcda4c98-ed13-4c9d-8465-565e479ac14f",
   "metadata": {},
   "outputs": [
    {
     "data": {
      "text/plain": [
       "['178.jpg', 'landing_frame.json']"
      ]
     },
     "execution_count": 13,
     "metadata": {},
     "output_type": "execute_result"
    }
   ],
   "source": [
    "# 我想把這個檔案load近來\n",
    "'output_landing\\landing_frame.json'"
   ]
  },
  {
   "cell_type": "code",
   "execution_count": null,
   "id": "b055a216-ec67-40ea-8047-edfe18dd2af2",
   "metadata": {},
   "outputs": [],
   "source": []
  }
 ],
 "metadata": {
  "kernelspec": {
   "display_name": "Python 3 (ipykernel)",
   "language": "python",
   "name": "python3"
  },
  "language_info": {
   "codemirror_mode": {
    "name": "ipython",
    "version": 3
   },
   "file_extension": ".py",
   "mimetype": "text/x-python",
   "name": "python",
   "nbconvert_exporter": "python",
   "pygments_lexer": "ipython3",
   "version": "3.8.10"
  }
 },
 "nbformat": 4,
 "nbformat_minor": 5
}
