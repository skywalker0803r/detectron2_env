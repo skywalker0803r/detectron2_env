{
 "cells": [
  {
   "cell_type": "code",
   "execution_count": 20,
   "id": "526b99cb-927d-48c5-959e-72cf72c9ec64",
   "metadata": {},
   "outputs": [
    {
     "name": "stderr",
     "output_type": "stream",
     "text": [
      "/tmp/ipykernel_1747/2553932779.py:25: TqdmDeprecationWarning: This function will be removed in tqdm==5.0.0\n",
      "Please use `tqdm.notebook.tqdm` instead of `tqdm.tqdm_notebook`\n",
      "  for npy_path in tqdm(npy_files):\n"
     ]
    },
    {
     "data": {
      "application/vnd.jupyter.widget-view+json": {
       "model_id": "e5ba2d9c035f431f8793855c13f09f16",
       "version_major": 2,
       "version_minor": 0
      },
      "text/plain": [
       "  0%|          | 0/153 [00:00<?, ?it/s]"
      ]
     },
     "metadata": {},
     "output_type": "display_data"
    },
    {
     "data": {
      "application/vnd.jupyter.widget-view+json": {
       "model_id": "f171adb705c544ff9010c375d4f35dfe",
       "version_major": 2,
       "version_minor": 0
      },
      "text/plain": [
       "  0%|          | 0/151 [00:00<?, ?it/s]"
      ]
     },
     "metadata": {},
     "output_type": "display_data"
    },
    {
     "data": {
      "application/vnd.jupyter.widget-view+json": {
       "model_id": "23c8f1f57fd24f789d501515df8d4c10",
       "version_major": 2,
       "version_minor": 0
      },
      "text/plain": [
       "  0%|          | 0/10 [00:00<?, ?it/s]"
      ]
     },
     "metadata": {},
     "output_type": "display_data"
    },
    {
     "data": {
      "application/vnd.jupyter.widget-view+json": {
       "model_id": "c6711f4f14a64c55a67f8b3b23271930",
       "version_major": 2,
       "version_minor": 0
      },
      "text/plain": [
       "  0%|          | 0/69 [00:00<?, ?it/s]"
      ]
     },
     "metadata": {},
     "output_type": "display_data"
    },
    {
     "data": {
      "application/vnd.jupyter.widget-view+json": {
       "model_id": "0f6cda7ccc2d465f951d4c19998efaa3",
       "version_major": 2,
       "version_minor": 0
      },
      "text/plain": [
       "  0%|          | 0/238 [00:00<?, ?it/s]"
      ]
     },
     "metadata": {},
     "output_type": "display_data"
    },
    {
     "data": {
      "application/vnd.jupyter.widget-view+json": {
       "model_id": "099a4dd9f8034537a7c81e944efbd5b8",
       "version_major": 2,
       "version_minor": 0
      },
      "text/plain": [
       "  0%|          | 0/98 [00:00<?, ?it/s]"
      ]
     },
     "metadata": {},
     "output_type": "display_data"
    },
    {
     "data": {
      "application/vnd.jupyter.widget-view+json": {
       "model_id": "affadf8278964f1da2a73cb837306d81",
       "version_major": 2,
       "version_minor": 0
      },
      "text/plain": [
       "  0%|          | 0/32 [00:00<?, ?it/s]"
      ]
     },
     "metadata": {},
     "output_type": "display_data"
    },
    {
     "data": {
      "application/vnd.jupyter.widget-view+json": {
       "model_id": "f4cf3e731e32438795fb2223cff9530e",
       "version_major": 2,
       "version_minor": 0
      },
      "text/plain": [
       "  0%|          | 0/138 [00:00<?, ?it/s]"
      ]
     },
     "metadata": {},
     "output_type": "display_data"
    },
    {
     "data": {
      "application/vnd.jupyter.widget-view+json": {
       "model_id": "bb926938cd054ceabed9e3555befeb7b",
       "version_major": 2,
       "version_minor": 0
      },
      "text/plain": [
       "  0%|          | 0/49 [00:00<?, ?it/s]"
      ]
     },
     "metadata": {},
     "output_type": "display_data"
    },
    {
     "data": {
      "application/vnd.jupyter.widget-view+json": {
       "model_id": "44dc19640f114b21a02d7a2265a83b97",
       "version_major": 2,
       "version_minor": 0
      },
      "text/plain": [
       "  0%|          | 0/89 [00:00<?, ?it/s]"
      ]
     },
     "metadata": {},
     "output_type": "display_data"
    },
    {
     "data": {
      "application/vnd.jupyter.widget-view+json": {
       "model_id": "3dcd0edb9b314386bdfbf5df039dfa68",
       "version_major": 2,
       "version_minor": 0
      },
      "text/plain": [
       "  0%|          | 0/120 [00:00<?, ?it/s]"
      ]
     },
     "metadata": {},
     "output_type": "display_data"
    },
    {
     "data": {
      "application/vnd.jupyter.widget-view+json": {
       "model_id": "142508cb893e4217b4c721f7ee99fdb6",
       "version_major": 2,
       "version_minor": 0
      },
      "text/plain": [
       "  0%|          | 0/82 [00:00<?, ?it/s]"
      ]
     },
     "metadata": {},
     "output_type": "display_data"
    },
    {
     "data": {
      "application/vnd.jupyter.widget-view+json": {
       "model_id": "ff7b234febab4c83b0b0a8edeef989ed",
       "version_major": 2,
       "version_minor": 0
      },
      "text/plain": [
       "  0%|          | 0/105 [00:00<?, ?it/s]"
      ]
     },
     "metadata": {},
     "output_type": "display_data"
    },
    {
     "data": {
      "application/vnd.jupyter.widget-view+json": {
       "model_id": "59e278c29d084a9f863e864064e55c2c",
       "version_major": 2,
       "version_minor": 0
      },
      "text/plain": [
       "  0%|          | 0/103 [00:00<?, ?it/s]"
      ]
     },
     "metadata": {},
     "output_type": "display_data"
    },
    {
     "data": {
      "application/vnd.jupyter.widget-view+json": {
       "model_id": "455b15e133594fab82e75875c561bd28",
       "version_major": 2,
       "version_minor": 0
      },
      "text/plain": [
       "  0%|          | 0/5 [00:00<?, ?it/s]"
      ]
     },
     "metadata": {},
     "output_type": "display_data"
    },
    {
     "data": {
      "application/vnd.jupyter.widget-view+json": {
       "model_id": "1625abd6f004430699f7d85506f3bfe4",
       "version_major": 2,
       "version_minor": 0
      },
      "text/plain": [
       "  0%|          | 0/238 [00:00<?, ?it/s]"
      ]
     },
     "metadata": {},
     "output_type": "display_data"
    },
    {
     "data": {
      "application/vnd.jupyter.widget-view+json": {
       "model_id": "b80ff2da5ceb425d920eecc28570dbc6",
       "version_major": 2,
       "version_minor": 0
      },
      "text/plain": [
       "  0%|          | 0/30 [00:00<?, ?it/s]"
      ]
     },
     "metadata": {},
     "output_type": "display_data"
    },
    {
     "data": {
      "application/vnd.jupyter.widget-view+json": {
       "model_id": "556e0f7001d74f12aec1178b3919c08b",
       "version_major": 2,
       "version_minor": 0
      },
      "text/plain": [
       "  0%|          | 0/65 [00:00<?, ?it/s]"
      ]
     },
     "metadata": {},
     "output_type": "display_data"
    },
    {
     "data": {
      "application/vnd.jupyter.widget-view+json": {
       "model_id": "ad063a4d49fe4cde82c66f258241dab7",
       "version_major": 2,
       "version_minor": 0
      },
      "text/plain": [
       "  0%|          | 0/238 [00:00<?, ?it/s]"
      ]
     },
     "metadata": {},
     "output_type": "display_data"
    },
    {
     "data": {
      "application/vnd.jupyter.widget-view+json": {
       "model_id": "35820a69467a4ed59044a9b99631ebdb",
       "version_major": 2,
       "version_minor": 0
      },
      "text/plain": [
       "  0%|          | 0/112 [00:00<?, ?it/s]"
      ]
     },
     "metadata": {},
     "output_type": "display_data"
    },
    {
     "data": {
      "application/vnd.jupyter.widget-view+json": {
       "model_id": "1ed150c3e2cf49988d43ef40f18f4172",
       "version_major": 2,
       "version_minor": 0
      },
      "text/plain": [
       "  0%|          | 0/74 [00:00<?, ?it/s]"
      ]
     },
     "metadata": {},
     "output_type": "display_data"
    },
    {
     "data": {
      "application/vnd.jupyter.widget-view+json": {
       "model_id": "fff62942280b44b29a7594ef97449e8a",
       "version_major": 2,
       "version_minor": 0
      },
      "text/plain": [
       "  0%|          | 0/89 [00:00<?, ?it/s]"
      ]
     },
     "metadata": {},
     "output_type": "display_data"
    },
    {
     "data": {
      "application/vnd.jupyter.widget-view+json": {
       "model_id": "c0f99810beb443509f8e9dba0eba58d5",
       "version_major": 2,
       "version_minor": 0
      },
      "text/plain": [
       "  0%|          | 0/239 [00:00<?, ?it/s]"
      ]
     },
     "metadata": {},
     "output_type": "display_data"
    },
    {
     "data": {
      "application/vnd.jupyter.widget-view+json": {
       "model_id": "e0fd51e133344b309aa398f46df3c130",
       "version_major": 2,
       "version_minor": 0
      },
      "text/plain": [
       "  0%|          | 0/17 [00:00<?, ?it/s]"
      ]
     },
     "metadata": {},
     "output_type": "display_data"
    },
    {
     "data": {
      "application/vnd.jupyter.widget-view+json": {
       "model_id": "e3e29a0526f34394a1d2c18130cf4693",
       "version_major": 2,
       "version_minor": 0
      },
      "text/plain": [
       "  0%|          | 0/239 [00:00<?, ?it/s]"
      ]
     },
     "metadata": {},
     "output_type": "display_data"
    },
    {
     "data": {
      "application/vnd.jupyter.widget-view+json": {
       "model_id": "bf8dfacf688f47cfb144727a00d494b3",
       "version_major": 2,
       "version_minor": 0
      },
      "text/plain": [
       "  0%|          | 0/238 [00:00<?, ?it/s]"
      ]
     },
     "metadata": {},
     "output_type": "display_data"
    },
    {
     "data": {
      "application/vnd.jupyter.widget-view+json": {
       "model_id": "8d207d248d1547c095c8875a6dae798e",
       "version_major": 2,
       "version_minor": 0
      },
      "text/plain": [
       "  0%|          | 0/238 [00:00<?, ?it/s]"
      ]
     },
     "metadata": {},
     "output_type": "display_data"
    },
    {
     "data": {
      "application/vnd.jupyter.widget-view+json": {
       "model_id": "e3af8bb9df944b03a1ee471d8a72c0a4",
       "version_major": 2,
       "version_minor": 0
      },
      "text/plain": [
       "  0%|          | 0/98 [00:00<?, ?it/s]"
      ]
     },
     "metadata": {},
     "output_type": "display_data"
    },
    {
     "data": {
      "application/vnd.jupyter.widget-view+json": {
       "model_id": "ec19439a4e4546f4a53b096c977e69af",
       "version_major": 2,
       "version_minor": 0
      },
      "text/plain": [
       "  0%|          | 0/238 [00:00<?, ?it/s]"
      ]
     },
     "metadata": {},
     "output_type": "display_data"
    },
    {
     "data": {
      "application/vnd.jupyter.widget-view+json": {
       "model_id": "a495788e70c34b86bca0b55ecd2b8401",
       "version_major": 2,
       "version_minor": 0
      },
      "text/plain": [
       "  0%|          | 0/238 [00:00<?, ?it/s]"
      ]
     },
     "metadata": {},
     "output_type": "display_data"
    },
    {
     "data": {
      "application/vnd.jupyter.widget-view+json": {
       "model_id": "13085a2f6b9145109e56f124181a1084",
       "version_major": 2,
       "version_minor": 0
      },
      "text/plain": [
       "  0%|          | 0/149 [00:00<?, ?it/s]"
      ]
     },
     "metadata": {},
     "output_type": "display_data"
    }
   ],
   "source": [
    "import os\n",
    "from tqdm import tqdm_notebook as tqdm\n",
    "import numpy as np\n",
    "\n",
    "root = 'data'\n",
    "features = []\n",
    "name = []\n",
    "for subdir_entry in os.scandir(root):\n",
    "    if not subdir_entry.is_dir():\n",
    "        continue\n",
    "    subdir_path = os.path.join(subdir_entry.path, 'KEYPOINT_DIR')\n",
    "    if not os.path.exists(subdir_path):\n",
    "        continue\n",
    "\n",
    "    try:\n",
    "        for f_entry in os.scandir(subdir_path):\n",
    "            if not f_entry.is_dir():\n",
    "                continue\n",
    "\n",
    "            feature = []\n",
    "            npy_files = sorted([\n",
    "                entry.path for entry in os.scandir(f_entry.path)\n",
    "                if entry.is_file() and entry.name.endswith('.npy')\n",
    "            ])\n",
    "            for npy_path in tqdm(npy_files):\n",
    "                feature.append(np.load(npy_path, allow_pickle=False))  # safer\n",
    "            name.append(f_entry.path)\n",
    "\n",
    "            if feature:\n",
    "                features.append(np.array(feature))\n",
    "    except Exception as e:\n",
    "        print(f\"Skipping {subdir_entry.name} due to error: {e}\")\n"
   ]
  },
  {
   "cell_type": "code",
   "execution_count": 21,
   "id": "c2101990-f4cf-41a6-b5f3-3ca78be0f11c",
   "metadata": {},
   "outputs": [
    {
     "data": {
      "text/plain": [
       "(31, 31)"
      ]
     },
     "execution_count": 21,
     "metadata": {},
     "output_type": "execute_result"
    }
   ],
   "source": [
    "len(features),len(name)"
   ]
  },
  {
   "cell_type": "code",
   "execution_count": 22,
   "id": "30f965c9-1aac-4ee7-8b23-4d32547e4a4f",
   "metadata": {},
   "outputs": [
    {
     "name": "stdout",
     "output_type": "stream",
     "text": [
      "(153, 17, 3) data/Gerrit_Cole_CH_videos_4S/KEYPOINT_DIR/pitch_0001\n",
      "(151, 17, 3) data/Gerrit_Cole_CH_videos_4S/KEYPOINT_DIR/pitch_0002\n",
      "(10, 17, 3) data/Gerrit_Cole_CH_videos_4S/KEYPOINT_DIR/pitch_0003\n",
      "(69, 17, 3) data/Gerrit_Cole_CH_videos_4S/KEYPOINT_DIR/pitch_0004\n",
      "(238, 17, 3) data/Gerrit_Cole_CH_videos_4S/KEYPOINT_DIR/pitch_0005\n",
      "(98, 17, 3) data/Gerrit_Cole_CH_videos_4S/KEYPOINT_DIR/pitch_0006\n",
      "(32, 17, 3) data/Gerrit_Cole_CH_videos_4S/KEYPOINT_DIR/pitch_0007\n",
      "(138, 17, 3) data/Gerrit_Cole_CH_videos_4S/KEYPOINT_DIR/pitch_0008\n",
      "(49, 17, 3) data/Gerrit_Cole_CH_videos_4S/KEYPOINT_DIR/pitch_0009\n",
      "(89, 17, 3) data/Gerrit_Cole_CH_videos_4S/KEYPOINT_DIR/pitch_0010\n",
      "(120, 17, 3) data/Gerrit_Cole_CH_videos_4S/KEYPOINT_DIR/pitch_0011\n",
      "(82, 17, 3) data/Gerrit_Cole_CH_videos_4S/KEYPOINT_DIR/pitch_0012\n",
      "(105, 17, 3) data/Gerrit_Cole_CH_videos_4S/KEYPOINT_DIR/pitch_0013\n",
      "(103, 17, 3) data/Gerrit_Cole_CH_videos_4S/KEYPOINT_DIR/pitch_0014\n",
      "(5, 17, 3) data/Gerrit_Cole_CH_videos_4S/KEYPOINT_DIR/pitch_0015\n",
      "(238, 17, 3) data/Gerrit_Cole_CH_videos_4S/KEYPOINT_DIR/pitch_0016\n",
      "(30, 17, 3) data/Gerrit_Cole_CH_videos_4S/KEYPOINT_DIR/pitch_0017\n",
      "(65, 17, 3) data/Gerrit_Cole_CH_videos_4S/KEYPOINT_DIR/pitch_0018\n",
      "(238, 17, 3) data/Gerrit_Cole_CH_videos_4S/KEYPOINT_DIR/pitch_0019\n",
      "(112, 17, 3) data/Gerrit_Cole_CH_videos_4S/KEYPOINT_DIR/pitch_0020\n",
      "(74, 17, 3) data/Gerrit_Cole_CH_videos_4S/KEYPOINT_DIR/pitch_0021\n",
      "(89, 17, 3) data/Gerrit_Cole_CH_videos_4S/KEYPOINT_DIR/pitch_0022\n",
      "(239, 17, 3) data/Gerrit_Cole_CH_videos_4S/KEYPOINT_DIR/pitch_0023\n",
      "(17, 17, 3) data/Gerrit_Cole_CH_videos_4S/KEYPOINT_DIR/pitch_0024\n",
      "(239, 17, 3) data/Gerrit_Cole_CH_videos_4S/KEYPOINT_DIR/pitch_0025\n",
      "(238, 17, 3) data/Gerrit_Cole_CH_videos_4S/KEYPOINT_DIR/pitch_0026\n",
      "(238, 17, 3) data/Gerrit_Cole_CH_videos_4S/KEYPOINT_DIR/pitch_0027\n",
      "(98, 17, 3) data/Gerrit_Cole_CH_videos_4S/KEYPOINT_DIR/pitch_0028\n",
      "(238, 17, 3) data/Gerrit_Cole_CH_videos_4S/KEYPOINT_DIR/pitch_0029\n",
      "(238, 17, 3) data/Gerrit_Cole_CH_videos_4S/KEYPOINT_DIR/pitch_0030\n",
      "(149, 17, 3) data/Gerrit_Cole_CH_videos_4S/KEYPOINT_DIR/pitch_0031\n"
     ]
    }
   ],
   "source": [
    "for i,j in zip(features,name):\n",
    "    print(i.shape,j)"
   ]
  },
  {
   "cell_type": "code",
   "execution_count": 23,
   "id": "bfef79da-31f5-4723-a05c-caa3e2a264b2",
   "metadata": {},
   "outputs": [],
   "source": [
    "import os\n",
    "import pandas as pd\n",
    "\n",
    "def extract_label_from_path(j):\n",
    "    \"\"\"\n",
    "    從 keypoint 資料夾路徑中取出球員名稱、影片名稱、對應 CSV、取得描述\n",
    "    \"\"\"\n",
    "    # 解析球員與影片路徑\n",
    "    parts = j.split(os.sep)  # 例如 ['data', 'Gerrit_Cole_CH_videos_4S', 'KEYPOINT_DIR', 'pitch_0001']\n",
    "    player_folder = parts[1]  # 'Gerrit_Cole_CH_videos_4S'\n",
    "    video_name = parts[-1] + '.mp4'  # 'pitch_0001.mp4'\n",
    "\n",
    "    # 取得球員名：去掉尾巴的 \"_videos_4S\"\n",
    "    player_name = player_folder.replace(\"_videos_4S\", \"\")\n",
    "    csv_path = os.path.join('data', player_folder, f\"{player_name}.csv\")\n",
    "\n",
    "    # 讀取 CSV 並找對應 label\n",
    "    if not os.path.exists(csv_path):\n",
    "        print(f\"❌ CSV 檔案不存在: {csv_path}\")\n",
    "        return None\n",
    "\n",
    "    df = pd.read_csv(csv_path)\n",
    "\n",
    "    # 忽略大小寫來比對\n",
    "    matched_row = df[df['Filename'].str.lower() == video_name.lower()]\n",
    "    if matched_row.empty:\n",
    "        print(f\"⚠️ 找不到對應影片: {video_name} in {csv_path}\")\n",
    "        return None\n",
    "\n",
    "    return matched_row.iloc[0]['description']\n"
   ]
  },
  {
   "cell_type": "code",
   "execution_count": 24,
   "id": "b63fc092-ef41-4c86-83e1-8dc3790526ff",
   "metadata": {},
   "outputs": [],
   "source": [
    "y = []\n",
    "\n",
    "for j in name:\n",
    "    label = extract_label_from_path(j)\n",
    "    if label is not None:\n",
    "        y.append(label)\n",
    "    else:\n",
    "        y.append('Unknown')  # 或是跳過這筆\n"
   ]
  },
  {
   "cell_type": "code",
   "execution_count": 25,
   "id": "d212a42d-4711-4129-8d85-f114f946979b",
   "metadata": {},
   "outputs": [
    {
     "name": "stdout",
     "output_type": "stream",
     "text": [
      "(153, 17, 3) ball\n",
      "(151, 17, 3) foul\n",
      "(10, 17, 3) hit_into_play\n",
      "(69, 17, 3) hit_into_play\n",
      "(238, 17, 3) ball\n",
      "(98, 17, 3) foul\n",
      "(32, 17, 3) foul\n",
      "(138, 17, 3) called_strike\n",
      "(49, 17, 3) ball\n",
      "(89, 17, 3) ball\n",
      "(120, 17, 3) called_strike\n",
      "(82, 17, 3) ball\n",
      "(105, 17, 3) ball\n",
      "(103, 17, 3) foul\n",
      "(5, 17, 3) ball\n",
      "(238, 17, 3) ball\n",
      "(30, 17, 3) foul\n",
      "(65, 17, 3) ball\n",
      "(238, 17, 3) ball\n",
      "(112, 17, 3) hit_into_play\n",
      "(74, 17, 3) ball\n",
      "(89, 17, 3) blocked_ball\n",
      "(239, 17, 3) foul\n",
      "(17, 17, 3) ball\n",
      "(239, 17, 3) foul\n",
      "(238, 17, 3) ball\n",
      "(238, 17, 3) ball\n",
      "(98, 17, 3) ball\n",
      "(238, 17, 3) blocked_ball\n",
      "(238, 17, 3) ball\n",
      "(149, 17, 3) ball\n"
     ]
    }
   ],
   "source": [
    "for i,j in zip(features,y):\n",
    "    print(i.shape,j)"
   ]
  },
  {
   "cell_type": "code",
   "execution_count": null,
   "id": "c6d88040-5fa3-41b9-ab7f-256d5367fd0f",
   "metadata": {},
   "outputs": [],
   "source": []
  }
 ],
 "metadata": {
  "kernelspec": {
   "display_name": "Python 3 (ipykernel)",
   "language": "python",
   "name": "python3"
  },
  "language_info": {
   "codemirror_mode": {
    "name": "ipython",
    "version": 3
   },
   "file_extension": ".py",
   "mimetype": "text/x-python",
   "name": "python",
   "nbconvert_exporter": "python",
   "pygments_lexer": "ipython3",
   "version": "3.8.10"
  }
 },
 "nbformat": 4,
 "nbformat_minor": 5
}
