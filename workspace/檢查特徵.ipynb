{
 "cells": [
  {
   "cell_type": "code",
   "execution_count": 2,
   "id": "526b99cb-927d-48c5-959e-72cf72c9ec64",
   "metadata": {},
   "outputs": [
    {
     "name": "stderr",
     "output_type": "stream",
     "text": [
      "/tmp/ipykernel_1747/2553932779.py:25: TqdmDeprecationWarning: This function will be removed in tqdm==5.0.0\n",
      "Please use `tqdm.notebook.tqdm` instead of `tqdm.tqdm_notebook`\n",
      "  for npy_path in tqdm(npy_files):\n"
     ]
    },
    {
     "data": {
      "application/vnd.jupyter.widget-view+json": {
       "model_id": "957530fb62c0466eb8586ac622c4cf42",
       "version_major": 2,
       "version_minor": 0
      },
      "text/plain": [
       "  0%|          | 0/153 [00:00<?, ?it/s]"
      ]
     },
     "metadata": {},
     "output_type": "display_data"
    },
    {
     "data": {
      "application/vnd.jupyter.widget-view+json": {
       "model_id": "5ebfed37405540c9abacc886e0dc3a35",
       "version_major": 2,
       "version_minor": 0
      },
      "text/plain": [
       "  0%|          | 0/151 [00:00<?, ?it/s]"
      ]
     },
     "metadata": {},
     "output_type": "display_data"
    },
    {
     "data": {
      "application/vnd.jupyter.widget-view+json": {
       "model_id": "eaa00b6835f44958a283dfd725afdd79",
       "version_major": 2,
       "version_minor": 0
      },
      "text/plain": [
       "  0%|          | 0/10 [00:00<?, ?it/s]"
      ]
     },
     "metadata": {},
     "output_type": "display_data"
    },
    {
     "data": {
      "application/vnd.jupyter.widget-view+json": {
       "model_id": "7bb2e855336c452f972f2b78cbefe212",
       "version_major": 2,
       "version_minor": 0
      },
      "text/plain": [
       "  0%|          | 0/69 [00:00<?, ?it/s]"
      ]
     },
     "metadata": {},
     "output_type": "display_data"
    },
    {
     "data": {
      "application/vnd.jupyter.widget-view+json": {
       "model_id": "93f3c8637f984ee38c7da8cb9a940708",
       "version_major": 2,
       "version_minor": 0
      },
      "text/plain": [
       "  0%|          | 0/238 [00:00<?, ?it/s]"
      ]
     },
     "metadata": {},
     "output_type": "display_data"
    },
    {
     "data": {
      "application/vnd.jupyter.widget-view+json": {
       "model_id": "fa90a18231034d039b51023b6ea72785",
       "version_major": 2,
       "version_minor": 0
      },
      "text/plain": [
       "  0%|          | 0/98 [00:00<?, ?it/s]"
      ]
     },
     "metadata": {},
     "output_type": "display_data"
    },
    {
     "data": {
      "application/vnd.jupyter.widget-view+json": {
       "model_id": "2b725ff7baa04dd3b122e7177e1c592e",
       "version_major": 2,
       "version_minor": 0
      },
      "text/plain": [
       "  0%|          | 0/32 [00:00<?, ?it/s]"
      ]
     },
     "metadata": {},
     "output_type": "display_data"
    },
    {
     "data": {
      "application/vnd.jupyter.widget-view+json": {
       "model_id": "f5e651dcd3034a2c8448b8740710bbe8",
       "version_major": 2,
       "version_minor": 0
      },
      "text/plain": [
       "  0%|          | 0/138 [00:00<?, ?it/s]"
      ]
     },
     "metadata": {},
     "output_type": "display_data"
    },
    {
     "data": {
      "application/vnd.jupyter.widget-view+json": {
       "model_id": "ac4d0b740a094907b6b062dae182fc09",
       "version_major": 2,
       "version_minor": 0
      },
      "text/plain": [
       "  0%|          | 0/49 [00:00<?, ?it/s]"
      ]
     },
     "metadata": {},
     "output_type": "display_data"
    },
    {
     "data": {
      "application/vnd.jupyter.widget-view+json": {
       "model_id": "dbb80807003b40c4a530f3b777adef20",
       "version_major": 2,
       "version_minor": 0
      },
      "text/plain": [
       "  0%|          | 0/89 [00:00<?, ?it/s]"
      ]
     },
     "metadata": {},
     "output_type": "display_data"
    },
    {
     "data": {
      "application/vnd.jupyter.widget-view+json": {
       "model_id": "14a37331d8554fdfb350722f269cb632",
       "version_major": 2,
       "version_minor": 0
      },
      "text/plain": [
       "  0%|          | 0/120 [00:00<?, ?it/s]"
      ]
     },
     "metadata": {},
     "output_type": "display_data"
    },
    {
     "data": {
      "application/vnd.jupyter.widget-view+json": {
       "model_id": "426b40b9c7c740d28b7444cbc5a17a61",
       "version_major": 2,
       "version_minor": 0
      },
      "text/plain": [
       "  0%|          | 0/82 [00:00<?, ?it/s]"
      ]
     },
     "metadata": {},
     "output_type": "display_data"
    },
    {
     "data": {
      "application/vnd.jupyter.widget-view+json": {
       "model_id": "1723e2d5522745759ddcdd2ed3106d13",
       "version_major": 2,
       "version_minor": 0
      },
      "text/plain": [
       "  0%|          | 0/105 [00:00<?, ?it/s]"
      ]
     },
     "metadata": {},
     "output_type": "display_data"
    },
    {
     "data": {
      "application/vnd.jupyter.widget-view+json": {
       "model_id": "2974a9f1e7eb4377964fc0dedd4360f4",
       "version_major": 2,
       "version_minor": 0
      },
      "text/plain": [
       "  0%|          | 0/103 [00:00<?, ?it/s]"
      ]
     },
     "metadata": {},
     "output_type": "display_data"
    },
    {
     "data": {
      "application/vnd.jupyter.widget-view+json": {
       "model_id": "c24b89948e6940d78246b655dc93f624",
       "version_major": 2,
       "version_minor": 0
      },
      "text/plain": [
       "  0%|          | 0/5 [00:00<?, ?it/s]"
      ]
     },
     "metadata": {},
     "output_type": "display_data"
    },
    {
     "data": {
      "application/vnd.jupyter.widget-view+json": {
       "model_id": "15874b8a181a4574beeab646e3a65175",
       "version_major": 2,
       "version_minor": 0
      },
      "text/plain": [
       "  0%|          | 0/11 [00:00<?, ?it/s]"
      ]
     },
     "metadata": {},
     "output_type": "display_data"
    }
   ],
   "source": [
    "import os\n",
    "from tqdm import tqdm_notebook as tqdm\n",
    "import numpy as np\n",
    "\n",
    "root = 'data'\n",
    "features = []\n",
    "name = []\n",
    "for subdir_entry in os.scandir(root):\n",
    "    if not subdir_entry.is_dir():\n",
    "        continue\n",
    "    subdir_path = os.path.join(subdir_entry.path, 'KEYPOINT_DIR')\n",
    "    if not os.path.exists(subdir_path):\n",
    "        continue\n",
    "\n",
    "    try:\n",
    "        for f_entry in os.scandir(subdir_path):\n",
    "            if not f_entry.is_dir():\n",
    "                continue\n",
    "\n",
    "            feature = []\n",
    "            npy_files = sorted([\n",
    "                entry.path for entry in os.scandir(f_entry.path)\n",
    "                if entry.is_file() and entry.name.endswith('.npy')\n",
    "            ])\n",
    "            for npy_path in tqdm(npy_files):\n",
    "                feature.append(np.load(npy_path, allow_pickle=False))  # safer\n",
    "            name.append(f_entry.path)\n",
    "\n",
    "            if feature:\n",
    "                features.append(np.array(feature))\n",
    "    except Exception as e:\n",
    "        print(f\"Skipping {subdir_entry.name} due to error: {e}\")\n"
   ]
  },
  {
   "cell_type": "code",
   "execution_count": 3,
   "id": "c2101990-f4cf-41a6-b5f3-3ca78be0f11c",
   "metadata": {},
   "outputs": [
    {
     "data": {
      "text/plain": [
       "(16, 16)"
      ]
     },
     "execution_count": 3,
     "metadata": {},
     "output_type": "execute_result"
    }
   ],
   "source": [
    "len(features),len(name)"
   ]
  },
  {
   "cell_type": "code",
   "execution_count": 4,
   "id": "30f965c9-1aac-4ee7-8b23-4d32547e4a4f",
   "metadata": {},
   "outputs": [
    {
     "name": "stdout",
     "output_type": "stream",
     "text": [
      "(153, 17, 3) data/Gerrit_Cole_CH_videos_4S/KEYPOINT_DIR/pitch_0001\n",
      "(151, 17, 3) data/Gerrit_Cole_CH_videos_4S/KEYPOINT_DIR/pitch_0002\n",
      "(10, 17, 3) data/Gerrit_Cole_CH_videos_4S/KEYPOINT_DIR/pitch_0003\n",
      "(69, 17, 3) data/Gerrit_Cole_CH_videos_4S/KEYPOINT_DIR/pitch_0004\n",
      "(238, 17, 3) data/Gerrit_Cole_CH_videos_4S/KEYPOINT_DIR/pitch_0005\n",
      "(98, 17, 3) data/Gerrit_Cole_CH_videos_4S/KEYPOINT_DIR/pitch_0006\n",
      "(32, 17, 3) data/Gerrit_Cole_CH_videos_4S/KEYPOINT_DIR/pitch_0007\n",
      "(138, 17, 3) data/Gerrit_Cole_CH_videos_4S/KEYPOINT_DIR/pitch_0008\n",
      "(49, 17, 3) data/Gerrit_Cole_CH_videos_4S/KEYPOINT_DIR/pitch_0009\n",
      "(89, 17, 3) data/Gerrit_Cole_CH_videos_4S/KEYPOINT_DIR/pitch_0010\n",
      "(120, 17, 3) data/Gerrit_Cole_CH_videos_4S/KEYPOINT_DIR/pitch_0011\n",
      "(82, 17, 3) data/Gerrit_Cole_CH_videos_4S/KEYPOINT_DIR/pitch_0012\n",
      "(105, 17, 3) data/Gerrit_Cole_CH_videos_4S/KEYPOINT_DIR/pitch_0013\n",
      "(103, 17, 3) data/Gerrit_Cole_CH_videos_4S/KEYPOINT_DIR/pitch_0014\n",
      "(5, 17, 3) data/Gerrit_Cole_CH_videos_4S/KEYPOINT_DIR/pitch_0015\n",
      "(11, 17, 3) data/Gerrit_Cole_CH_videos_4S/KEYPOINT_DIR/pitch_0016\n"
     ]
    }
   ],
   "source": [
    "for i,j in zip(features,name):\n",
    "    print(i.shape,j)"
   ]
  },
  {
   "cell_type": "code",
   "execution_count": 5,
   "id": "bfef79da-31f5-4723-a05c-caa3e2a264b2",
   "metadata": {},
   "outputs": [],
   "source": [
    "import os\n",
    "import pandas as pd\n",
    "\n",
    "def extract_label_from_path(j):\n",
    "    \"\"\"\n",
    "    從 keypoint 資料夾路徑中取出球員名稱、影片名稱、對應 CSV、取得描述\n",
    "    \"\"\"\n",
    "    # 解析球員與影片路徑\n",
    "    parts = j.split(os.sep)  # 例如 ['data', 'Gerrit_Cole_CH_videos_4S', 'KEYPOINT_DIR', 'pitch_0001']\n",
    "    player_folder = parts[1]  # 'Gerrit_Cole_CH_videos_4S'\n",
    "    video_name = parts[-1] + '.mp4'  # 'pitch_0001.mp4'\n",
    "\n",
    "    # 取得球員名：去掉尾巴的 \"_videos_4S\"\n",
    "    player_name = player_folder.replace(\"_videos_4S\", \"\")\n",
    "    csv_path = os.path.join('data', player_folder, f\"{player_name}.csv\")\n",
    "\n",
    "    # 讀取 CSV 並找對應 label\n",
    "    if not os.path.exists(csv_path):\n",
    "        print(f\"❌ CSV 檔案不存在: {csv_path}\")\n",
    "        return None\n",
    "\n",
    "    df = pd.read_csv(csv_path)\n",
    "\n",
    "    # 忽略大小寫來比對\n",
    "    matched_row = df[df['Filename'].str.lower() == video_name.lower()]\n",
    "    if matched_row.empty:\n",
    "        print(f\"⚠️ 找不到對應影片: {video_name} in {csv_path}\")\n",
    "        return None\n",
    "\n",
    "    return matched_row.iloc[0]['description']\n"
   ]
  },
  {
   "cell_type": "code",
   "execution_count": 6,
   "id": "b63fc092-ef41-4c86-83e1-8dc3790526ff",
   "metadata": {},
   "outputs": [],
   "source": [
    "y = []\n",
    "\n",
    "for j in name:\n",
    "    label = extract_label_from_path(j)\n",
    "    if label is not None:\n",
    "        y.append(label)\n",
    "    else:\n",
    "        y.append('Unknown')  # 或是跳過這筆\n"
   ]
  },
  {
   "cell_type": "code",
   "execution_count": 7,
   "id": "d212a42d-4711-4129-8d85-f114f946979b",
   "metadata": {},
   "outputs": [
    {
     "name": "stdout",
     "output_type": "stream",
     "text": [
      "(153, 17, 3) ball\n",
      "(151, 17, 3) foul\n",
      "(10, 17, 3) hit_into_play\n",
      "(69, 17, 3) hit_into_play\n",
      "(238, 17, 3) ball\n",
      "(98, 17, 3) foul\n",
      "(32, 17, 3) foul\n",
      "(138, 17, 3) called_strike\n",
      "(49, 17, 3) ball\n",
      "(89, 17, 3) ball\n",
      "(120, 17, 3) called_strike\n",
      "(82, 17, 3) ball\n",
      "(105, 17, 3) ball\n",
      "(103, 17, 3) foul\n",
      "(5, 17, 3) ball\n",
      "(11, 17, 3) ball\n"
     ]
    }
   ],
   "source": [
    "for i,j in zip(features,y):\n",
    "    print(i.shape,j)"
   ]
  },
  {
   "cell_type": "code",
   "execution_count": null,
   "id": "c6d88040-5fa3-41b9-ab7f-256d5367fd0f",
   "metadata": {},
   "outputs": [],
   "source": []
  }
 ],
 "metadata": {
  "kernelspec": {
   "display_name": "Python 3 (ipykernel)",
   "language": "python",
   "name": "python3"
  },
  "language_info": {
   "codemirror_mode": {
    "name": "ipython",
    "version": 3
   },
   "file_extension": ".py",
   "mimetype": "text/x-python",
   "name": "python",
   "nbconvert_exporter": "python",
   "pygments_lexer": "ipython3",
   "version": "3.8.10"
  }
 },
 "nbformat": 4,
 "nbformat_minor": 5
}
