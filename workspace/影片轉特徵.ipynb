{
 "cells": [
  {
   "cell_type": "code",
   "execution_count": 1,
   "id": "08afe265-20ab-4af9-ae75-fa8806ea730d",
   "metadata": {},
   "outputs": [
    {
     "name": "stdout",
     "output_type": "stream",
     "text": [
      "True\n",
      "Detectron2 模型運行裝置: cuda:0\n"
     ]
    }
   ],
   "source": [
    "from detectron2.engine import DefaultPredictor\n",
    "from detectron2.config import get_cfg\n",
    "from detectron2 import model_zoo\n",
    "import time\n",
    "\n",
    "import torch\n",
    "print(torch.cuda.is_available())  # True 表示可以用 GPU\n",
    "\n",
    "cfg = get_cfg()\n",
    "cfg.merge_from_file(\n",
    "    model_zoo.get_config_file(\"COCO-Keypoints/keypoint_rcnn_R_50_FPN_3x.yaml\")\n",
    ")\n",
    "cfg.MODEL.ROI_HEADS.SCORE_THRESH_TEST = 0.5\n",
    "cfg.MODEL.WEIGHTS = model_zoo.get_checkpoint_url(\n",
    "    \"COCO-Keypoints/keypoint_rcnn_R_50_FPN_3x.yaml\"\n",
    ")\n",
    "cfg.MODEL.DEVICE = \"cuda\"  # 指定使用 GPU\n",
    "\n",
    "predictor = DefaultPredictor(cfg)\n",
    "\n",
    "print(\"Detectron2 模型運行裝置:\", predictor.model.device)"
   ]
  },
  {
   "cell_type": "code",
   "execution_count": null,
   "id": "a605902a-71a6-4a8f-9bb4-59a00d73527d",
   "metadata": {},
   "outputs": [
    {
     "name": "stdout",
     "output_type": "stream",
     "text": [
      "⚙️ 使用裝置：cuda\n"
     ]
    },
    {
     "name": "stderr",
     "output_type": "stream",
     "text": [
      "  0%|          | 0/8 [00:00<?, ?it/s]\n",
      "  0%|          | 0/203 [00:00<?, ?it/s]\u001b[A"
     ]
    },
    {
     "name": "stdout",
     "output_type": "stream",
     "text": [
      "data/Gerrit_Cole_CH_videos_4S/KEYPOINT_DIR/pitch_0001 已存在，跳過處理。\n",
      "🎞️ 處理影片：data/Gerrit_Cole_CH_videos_4S/pitch_0001.mp4，總影格：238，FPS: 59.61\n"
     ]
    },
    {
     "data": {
      "application/vnd.jupyter.widget-view+json": {
       "model_id": "3a512c7161fa404e8a9505d1f904dece",
       "version_major": 2,
       "version_minor": 0
      },
      "text/plain": [
       "  0%|          | 0/238 [00:00<?, ?it/s]"
      ]
     },
     "metadata": {},
     "output_type": "display_data"
    },
    {
     "name": "stdout",
     "output_type": "stream",
     "text": [
      "👤 Frame 0: 設定目標人物 ID = 1\n"
     ]
    }
   ],
   "source": [
    "# analyze_pitch_from_detectron2.py\n",
    "# 👉 全自動流程：影片 → Detectron2 → 三動作偵測 → 特徵分析\n",
    "\n",
    "import os\n",
    "import json\n",
    "import time\n",
    "import shutil\n",
    "import pandas as pd\n",
    "from tqdm import tqdm\n",
    "import torch\n",
    "import warnings\n",
    "warnings.filterwarnings(\"ignore\")\n",
    "\n",
    "from pose_utils_detectron2 import load_pose_sequence\n",
    "from pose_detectron2 import run_detectron2\n",
    "\n",
    "from detect_release import detect_release\n",
    "from detect_landing import detect_landing\n",
    "from detect_shoulder import detect_shoulder\n",
    "\n",
    "from landing_features import detect_landing_features\n",
    "from shoulder_features import extract_shoulder_features\n",
    "from release_features import extract_release_features\n",
    "\n",
    "# ✅ 單支影片轉特徵 json\n",
    "def video_2_json(video_path, json_path, description, keypoint_dir, device):\n",
    "    try:\n",
    "        if os.path.exists(keypoint_dir):\n",
    "            # 有舊資料，跳過後續動作\n",
    "            print(f\"{keypoint_dir} 已存在，跳過處理。\")\n",
    "            return 0\n",
    "\n",
    "        # 🧠 執行 detectron2 輸入影片 → 關節座標資料\n",
    "        run_detectron2(video_path=video_path, output_dir=keypoint_dir, device=device,save_img=False)\n",
    "        pose_sequence = load_pose_sequence(keypoint_dir)\n",
    "\n",
    "        # 🎯 偵測三個關鍵偵\n",
    "        release_frame = detect_release(pose_sequence)\n",
    "        landing_frame = detect_landing(pose_sequence, release_frame)\n",
    "        shoulder_frame = detect_shoulder(pose_sequence, release_frame)\n",
    "\n",
    "        # 🔍 提取所有特徵\n",
    "        all_features = {}\n",
    "\n",
    "        landing_features = detect_landing_features(pose_sequence, landing_frame)\n",
    "        for key, value in landing_features.items():\n",
    "            all_features[f'landing_features_{key}'] = value\n",
    "\n",
    "        shoulder_features = extract_shoulder_features(pose_sequence, shoulder_frame, landing_frame)\n",
    "        for key, value in shoulder_features.items():\n",
    "            all_features[f'shoulder_features_{key}'] = value\n",
    "\n",
    "        release_features = extract_release_features(pose_sequence, release_frame)\n",
    "        for key, value in release_features.items():\n",
    "            all_features[f'release_features_{key}'] = value\n",
    "\n",
    "        all_features['description'] = description\n",
    "\n",
    "        # 💾 輸出 JSON\n",
    "        assert ('data' in json_path) and ('features_and_labels' in json_path)\n",
    "        os.makedirs(os.path.dirname(json_path), exist_ok=True)\n",
    "        with open(json_path, 'w') as f:\n",
    "            json.dump(all_features, f, indent=2)\n",
    "        print('✅ 特徵已儲存至', json_path)\n",
    "\n",
    "    except Exception as e:\n",
    "        print('❌ 錯誤發生於影片:', video_path)\n",
    "        print(e)\n",
    "\n",
    "ROOT_DIR = 'data'\n",
    "\n",
    "# ✅ 主程式\n",
    "def main():\n",
    "    device = 'cuda' if torch.cuda.is_available() else 'cpu'\n",
    "    print(f\"⚙️ 使用裝置：{device}\")\n",
    "\n",
    "    for subdir in tqdm(os.listdir(ROOT_DIR)):\n",
    "        subdir_path = os.path.join(ROOT_DIR, subdir)\n",
    "        if not os.path.isdir(subdir_path):\n",
    "            print('⚠️ 找不到子目錄')\n",
    "            continue\n",
    "\n",
    "        player_name = \"_\".join(subdir.split(\"_\")[:3])\n",
    "        csv_path = os.path.join(ROOT_DIR, subdir, f\"{player_name}.csv\")\n",
    "\n",
    "        if not os.path.exists(csv_path):\n",
    "            print(f\"⚠️ 找不到對應的 CSV：{csv_path}\")\n",
    "            continue\n",
    "\n",
    "        df = pd.read_csv(csv_path)\n",
    "\n",
    "        for video_file in tqdm(os.listdir(subdir_path)):\n",
    "            if not video_file.endswith('.mp4'):\n",
    "                continue\n",
    "\n",
    "            video_path = os.path.join(subdir_path, video_file)\n",
    "\n",
    "            # ✅ 更穩健的檢查影片對應描述（忽略大小寫）\n",
    "            row = df[df['Filename'].str.lower() == video_file.lower()]\n",
    "            if row.empty:\n",
    "                print(f\"⚠️ 找不到影片對應的描述：{video_file}\")\n",
    "                continue\n",
    "\n",
    "            description = row.iloc[0]['description']\n",
    "\n",
    "            json_output_path = os.path.join(subdir_path, \"features_and_labels\", video_file.replace(\".mp4\", \".json\"))\n",
    "            keypoint_dir = os.path.join(subdir_path, \"KEYPOINT_DIR\", video_file.replace(\".mp4\", \"\"))\n",
    "\n",
    "            video_2_json(video_path, json_output_path, description, keypoint_dir, device)\n",
    "\n",
    "if __name__ == \"__main__\":\n",
    "    main()\n"
   ]
  },
  {
   "cell_type": "code",
   "execution_count": null,
   "id": "a0b1a154-4cd2-439d-a87c-e7bfa316b9be",
   "metadata": {},
   "outputs": [],
   "source": []
  }
 ],
 "metadata": {
  "kernelspec": {
   "display_name": "Python 3 (ipykernel)",
   "language": "python",
   "name": "python3"
  },
  "language_info": {
   "codemirror_mode": {
    "name": "ipython",
    "version": 3
   },
   "file_extension": ".py",
   "mimetype": "text/x-python",
   "name": "python",
   "nbconvert_exporter": "python",
   "pygments_lexer": "ipython3",
   "version": "3.8.10"
  }
 },
 "nbformat": 4,
 "nbformat_minor": 5
}
